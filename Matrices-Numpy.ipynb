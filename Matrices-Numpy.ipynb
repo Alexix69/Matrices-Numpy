{
 "cells": [
  {
   "cell_type": "code",
   "execution_count": null,
   "id": "667f3072",
   "metadata": {},
   "outputs": [],
   "source": [
    "import numpy as np\n",
    "\n",
    "print(\"Producto de matrices \\n\")\n",
    "f1 = int(input(\"Numero de filas primera matriz: \"))\n",
    "c1 = int(input(\"Numero de columnas primera matriz: \"))\n",
    "f2 = int(input(\"Numero de filas segunda matriz: \"))\n",
    "c2 = int(input(\"Numero de columnas segunda matriz: \"))\n",
    "if(c1 != f2):\n",
    "    print(\"El numero de columnas de la primera matriz debe ser igual al numero de filas de la segunda! \\n\")\n",
    "else:\n",
    "    m1 = []\n",
    "    print(\"\\nElementos: \\n\")\n",
    "    for i in range(f1):\n",
    "        a = []\n",
    "        for j in range(c1):\n",
    "            a.append(int(input()))\n",
    "        m1.append(a)\n",
    "    M1 = np.array(m1)\n",
    "    print (\"Primera matriz: \\n\")\n",
    "    print (M1)\n",
    "    m2 = []\n",
    "    print(\"\\nElementos: \\n\")\n",
    "    for i in range(f2):\n",
    "        b = []\n",
    "        for j in range(c2):\n",
    "            b.append(int(input()))\n",
    "        m2.append(b)\n",
    "    M2 = np.array(m2)\n",
    "    print (\"Segunda matriz: \\n\")\n",
    "    print (M2)\n",
    "    print(\"\\nEl producto de ambas matrices es:\\n\")\n",
    "    MR = np.matmul(M1, M2)\n",
    "    print (MR)"
   ]
  },
  {
   "cell_type": "code",
   "execution_count": null,
   "id": "5d119610",
   "metadata": {},
   "outputs": [],
   "source": []
  },
  {
   "cell_type": "code",
   "execution_count": null,
   "id": "298ed497",
   "metadata": {},
   "outputs": [],
   "source": []
  },
  {
   "cell_type": "code",
   "execution_count": null,
   "id": "d3b731bc",
   "metadata": {},
   "outputs": [],
   "source": []
  }
 ],
 "metadata": {
  "kernelspec": {
   "display_name": "Python 3",
   "language": "python",
   "name": "python3"
  },
  "language_info": {
   "codemirror_mode": {
    "name": "ipython",
    "version": 3
   },
   "file_extension": ".py",
   "mimetype": "text/x-python",
   "name": "python",
   "nbconvert_exporter": "python",
   "pygments_lexer": "ipython3",
   "version": "3.9.5"
  }
 },
 "nbformat": 4,
 "nbformat_minor": 5
}
